{
 "cells": [
  {
   "cell_type": "code",
   "execution_count": 1,
   "id": "a6628800-dd13-49bd-bea5-62d907d79b32",
   "metadata": {},
   "outputs": [],
   "source": [
    "import event"
   ]
  },
  {
   "cell_type": "code",
   "execution_count": 2,
   "id": "9e269ef4-63f1-431e-a99f-0e15048da082",
   "metadata": {},
   "outputs": [
    {
     "name": "stdout",
     "output_type": "stream",
     "text": [
      "Starting event analysis: ...\n",
      "removed  69 single frame localizations.\n",
      "Linked  14915  locs to  509 events.\n",
      "starting events_lt_avg_pos... \n",
      "976178676  photons and  509 events read in\n",
      "len photons for calib_peak:  500000\n",
      "peak arrival time:    84\n",
      "start time:           84\n",
      "_______________________________________________________\n",
      "Analysing group 1 of 3\n",
      "start undrifting 4356653 photons\n",
      "finished undrifting!\n",
      "number of picked photons:  2158116\n",
      "number of event photons:  2158116\n",
      "fitting lifetime of  162  events:\n",
      "FIRST fitted. Number of photons  in phot_event:  4859\n",
      "_______________________________________________________\n",
      "Analysing group 2 of 3\n",
      "start undrifting 4601768 photons\n",
      "finished undrifting!\n",
      "number of picked photons:  2309157\n",
      "number of event photons:  2309157\n",
      "fitting lifetime of  156  events:\n",
      "200 fitted. Number of photons  in phot_event:  875\n",
      "_______________________________________________________\n",
      "Analysing group 3 of 3\n",
      "start undrifting 4506717 photons\n",
      "finished undrifting!\n",
      "number of picked photons:  2281109\n",
      "number of event photons:  2281109\n",
      "fitting lifetime of  191  events:\n",
      "200 fitted. Number of photons  in phot_event:  323\n",
      "__________________________FINISHED____________________________\n",
      "\n",
      "509 events tagged with lifetime and fitted with avg x,y position.\n",
      "\n",
      "dataframe succesfully saved in picasso format.\n"
     ]
    }
   ],
   "source": [
    "event.event_analysis('local/all3_1701_rf_test.hdf5', 'local/all3_1701_index.hdf5', 'local/all3_1701_drift.txt', 10, 4.5, 200, '_roi_phot')"
   ]
  },
  {
   "cell_type": "code",
   "execution_count": null,
   "id": "3b663166-80b5-4966-9af2-0b8e343879a7",
   "metadata": {},
   "outputs": [],
   "source": []
  }
 ],
 "metadata": {
  "kernelspec": {
   "display_name": "Python 3 (ipykernel)",
   "language": "python",
   "name": "python3"
  },
  "language_info": {
   "codemirror_mode": {
    "name": "ipython",
    "version": 3
   },
   "file_extension": ".py",
   "mimetype": "text/x-python",
   "name": "python",
   "nbconvert_exporter": "python",
   "pygments_lexer": "ipython3",
   "version": "3.10.16"
  }
 },
 "nbformat": 4,
 "nbformat_minor": 5
}
