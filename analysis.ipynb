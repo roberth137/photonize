{
 "cells": [
  {
   "cell_type": "code",
   "execution_count": 1,
   "id": "a6628800-dd13-49bd-bea5-62d907d79b32",
   "metadata": {},
   "outputs": [],
   "source": [
    "import event"
   ]
  },
  {
   "cell_type": "code",
   "execution_count": 2,
   "id": "9e269ef4-63f1-431e-a99f-0e15048da082",
   "metadata": {},
   "outputs": [
    {
     "name": "stdout",
     "output_type": "stream",
     "text": [
      "Starting event analysis: ...\n",
      "connecting 772263 localizations of 93 groups.\n",
      "10 of 93 groups connected.\n",
      "20 of 93 groups connected.\n",
      "30 of 93 groups connected.\n",
      "40 of 93 groups connected.\n",
      "50 of 93 groups connected.\n",
      "60 of 93 groups connected.\n",
      "70 of 93 groups connected.\n",
      "80 of 93 groups connected.\n",
      "90 of 93 groups connected.\n",
      "Linked  772263  locs to  35905 events.\n",
      "starting events_lt_avg_pos... \n",
      "976178676  photons and  35905 events read in\n",
      "len photons for calib_peak:  500000\n",
      "peak arrival time:    84\n",
      "start time:           84\n",
      "_______________________________________________________\n",
      "Analysing group 1 of 93\n",
      "start undrifting 4515048 photons\n",
      "finished undrifting!\n",
      "number of picked photons:  2245722\n",
      "fitting lifetime of  167  events:\n",
      "FIRST fitted. Number of photons  in phot_event:  4859\n",
      "_______________________________________________________\n",
      "Analysing group 2 of 93\n",
      "start undrifting 4707574 photons\n",
      "finished undrifting!\n",
      "number of picked photons:  2473756\n",
      "fitting lifetime of  182  events:\n",
      "200 fitted. Number of photons  in phot_event:  1265\n",
      "_______________________________________________________\n",
      "Analysing group 3 of 93\n",
      "start undrifting 5887632 photons\n",
      "finished undrifting!\n",
      "number of picked photons:  3227642\n",
      "fitting lifetime of  656  events:\n",
      "200 fitted. Number of photons  in phot_event:  705\n",
      "200 fitted. Number of photons  in phot_event:  630\n",
      "200 fitted. Number of photons  in phot_event:  109\n",
      "200 fitted. Number of photons  in phot_event:  261\n",
      "_______________________________________________________\n",
      "Analysing group 4 of 93\n",
      "start undrifting 5494096 photons\n",
      "finished undrifting!\n",
      "number of picked photons:  3159100\n",
      "fitting lifetime of  299  events:\n",
      "200 fitted. Number of photons  in phot_event:  2212\n",
      "_______________________________________________________\n",
      "Analysing group 5 of 93\n",
      "start undrifting 4949631 photons\n",
      "finished undrifting!\n",
      "number of picked photons:  2919210\n",
      "fitting lifetime of  635  events:\n",
      "200 fitted. Number of photons  in phot_event:  1235\n",
      "200 fitted. Number of photons  in phot_event:  82\n",
      "200 fitted. Number of photons  in phot_event:  756\n",
      "_______________________________________________________\n",
      "Analysing group 6 of 93\n",
      "start undrifting 7570547 photons\n",
      "finished undrifting!\n",
      "number of picked photons:  4636982\n",
      "fitting lifetime of  572  events:\n",
      "200 fitted. Number of photons  in phot_event:  334\n",
      "200 fitted. Number of photons  in phot_event:  158\n",
      "200 fitted. Number of photons  in phot_event:  133\n",
      "_______________________________________________________\n",
      "Analysing group 7 of 93\n",
      "start undrifting 7251189 photons\n",
      "finished undrifting!\n",
      "number of picked photons:  4410822\n",
      "fitting lifetime of  697  events:\n",
      "200 fitted. Number of photons  in phot_event:  305\n",
      "200 fitted. Number of photons  in phot_event:  2135\n",
      "200 fitted. Number of photons  in phot_event:  3027\n"
     ]
    },
    {
     "ename": "KeyboardInterrupt",
     "evalue": "",
     "output_type": "error",
     "traceback": [
      "\u001b[1;31m---------------------------------------------------------------------------\u001b[0m",
      "\u001b[1;31mKeyboardInterrupt\u001b[0m                         Traceback (most recent call last)",
      "Cell \u001b[1;32mIn[2], line 1\u001b[0m\n\u001b[1;32m----> 1\u001b[0m \u001b[43mevent\u001b[49m\u001b[38;5;241;43m.\u001b[39;49m\u001b[43mevent_analysis\u001b[49m\u001b[43m(\u001b[49m\u001b[38;5;124;43m'\u001b[39;49m\u001b[38;5;124;43mlocal/all3_1701_rfp.hdf5\u001b[39;49m\u001b[38;5;124;43m'\u001b[39;49m\u001b[43m,\u001b[49m\u001b[43m \u001b[49m\u001b[38;5;124;43m'\u001b[39;49m\u001b[38;5;124;43mlocal/all3_1701_index.hdf5\u001b[39;49m\u001b[38;5;124;43m'\u001b[39;49m\u001b[43m,\u001b[49m\u001b[43m \u001b[49m\u001b[38;5;124;43m'\u001b[39;49m\u001b[38;5;124;43mlocal/all3_1701_drift.txt\u001b[39;49m\u001b[38;5;124;43m'\u001b[39;49m\u001b[43m,\u001b[49m\u001b[43m \u001b[49m\u001b[38;5;241;43m10\u001b[39;49m\u001b[43m,\u001b[49m\u001b[43m \u001b[49m\u001b[38;5;241;43m4.5\u001b[39;49m\u001b[43m,\u001b[49m\u001b[43m \u001b[49m\u001b[38;5;241;43m200\u001b[39;49m\u001b[43m)\u001b[49m\n",
      "File \u001b[1;32m~\\Desktop\\resi-flim\\event\\evelyze.py:27\u001b[0m, in \u001b[0;36mevent_analysis\u001b[1;34m(localizations_file, photons_file, drift_file, offset, diameter, int_time, suffix)\u001b[0m\n\u001b[0;32m     24\u001b[0m photons \u001b[38;5;241m=\u001b[39m helper\u001b[38;5;241m.\u001b[39mprocess_input(photons_file, dataset\u001b[38;5;241m=\u001b[39m\u001b[38;5;124m'\u001b[39m\u001b[38;5;124mphotons\u001b[39m\u001b[38;5;124m'\u001b[39m)\n\u001b[0;32m     25\u001b[0m drift \u001b[38;5;241m=\u001b[39m helper\u001b[38;5;241m.\u001b[39mprocess_input(drift_file, dataset\u001b[38;5;241m=\u001b[39m\u001b[38;5;124m'\u001b[39m\u001b[38;5;124mdrift\u001b[39m\u001b[38;5;124m'\u001b[39m)\n\u001b[1;32m---> 27\u001b[0m \u001b[43mevents_lt_avg_pos\u001b[49m\u001b[43m(\u001b[49m\u001b[43mevents\u001b[49m\u001b[43m,\u001b[49m\u001b[43m \u001b[49m\u001b[43mphotons\u001b[49m\u001b[43m,\u001b[49m\u001b[43m \u001b[49m\u001b[43mdrift\u001b[49m\u001b[43m,\u001b[49m\u001b[43m \u001b[49m\u001b[43moffset\u001b[49m\u001b[43m,\u001b[49m\u001b[43m \u001b[49m\u001b[43mdiameter\u001b[49m\u001b[38;5;241;43m=\u001b[39;49m\u001b[43mdiameter\u001b[49m\u001b[43m,\u001b[49m\n\u001b[0;32m     28\u001b[0m \u001b[43m                  \u001b[49m\u001b[43mint_time\u001b[49m\u001b[38;5;241;43m=\u001b[39;49m\u001b[43mint_time\u001b[49m\u001b[43m)\u001b[49m\n\u001b[0;32m     29\u001b[0m file_extension \u001b[38;5;241m=\u001b[39m \u001b[38;5;124m'\u001b[39m\u001b[38;5;124m_event\u001b[39m\u001b[38;5;124m'\u001b[39m\u001b[38;5;241m+\u001b[39msuffix\n\u001b[0;32m     30\u001b[0m message \u001b[38;5;241m=\u001b[39m helper\u001b[38;5;241m.\u001b[39mcreate_append_message(\u001b[38;5;124m'\u001b[39m\u001b[38;5;124mEvelyze\u001b[39m\u001b[38;5;124m'\u001b[39m, offset, diameter, int_time)\n",
      "File \u001b[1;32m~\\Desktop\\resi-flim\\event\\evelyze.py:113\u001b[0m, in \u001b[0;36mevents_lt_avg_pos\u001b[1;34m(event_file, photons_file, drift_file, offset, diameter, int_time)\u001b[0m\n\u001b[0;32m    108\u001b[0m     \u001b[38;5;28mprint\u001b[39m(\u001b[38;5;124m'\u001b[39m\u001b[38;5;124mfitting lifetime of \u001b[39m\u001b[38;5;124m'\u001b[39m, \u001b[38;5;28mlen\u001b[39m(events_group),\n\u001b[0;32m    109\u001b[0m           \u001b[38;5;124m'\u001b[39m\u001b[38;5;124m events:\u001b[39m\u001b[38;5;124m'\u001b[39m)\n\u001b[0;32m    111\u001b[0m my_event \u001b[38;5;241m=\u001b[39m events\u001b[38;5;241m.\u001b[39miloc[i]\n\u001b[1;32m--> 113\u001b[0m cylinder_photons \u001b[38;5;241m=\u001b[39m \u001b[43mget_photons\u001b[49m\u001b[38;5;241;43m.\u001b[39;49m\u001b[43mcrop_event\u001b[49m\u001b[43m(\u001b[49m\u001b[43mmy_event\u001b[49m\u001b[43m,\u001b[49m\n\u001b[0;32m    114\u001b[0m \u001b[43m                                          \u001b[49m\u001b[43mpick_photons\u001b[49m\u001b[43m,\u001b[49m\n\u001b[0;32m    115\u001b[0m \u001b[43m                                          \u001b[49m\u001b[43mdiameter\u001b[49m\u001b[43m,\u001b[49m\n\u001b[0;32m    116\u001b[0m \u001b[43m                                          \u001b[49m\u001b[38;5;241;43m200\u001b[39;49m\u001b[43m)\u001b[49m\n\u001b[0;32m    118\u001b[0m start_ms , end_ms, duration_ms \u001b[38;5;241m=\u001b[39m fitting\u001b[38;5;241m.\u001b[39mget_on_off_dur(cylinder_photons,\n\u001b[0;32m    119\u001b[0m                                                         \u001b[38;5;241m10\u001b[39m,\n\u001b[0;32m    120\u001b[0m                                                         \u001b[38;5;241m5\u001b[39m)\n\u001b[0;32m    122\u001b[0m \u001b[38;5;66;03m#filter photons according to new bounds\u001b[39;00m\n",
      "File \u001b[1;32m~\\Desktop\\resi-flim\\get_photons\\boundaries.py:73\u001b[0m, in \u001b[0;36mcrop_event\u001b[1;34m(event, photons, diameter, more_ms)\u001b[0m\n\u001b[0;32m     69\u001b[0m \u001b[38;5;28;01melse\u001b[39;00m:\n\u001b[0;32m     70\u001b[0m     \u001b[38;5;28;01mraise\u001b[39;00m \u001b[38;5;167;01mAttributeError\u001b[39;00m(\n\u001b[0;32m     71\u001b[0m         \u001b[38;5;124m\"\u001b[39m\u001b[38;5;124mRequired attributes are missing. Expected either \u001b[39m\u001b[38;5;124m'\u001b[39m\u001b[38;5;124mstart_ms\u001b[39m\u001b[38;5;124m'\u001b[39m\u001b[38;5;124m, \u001b[39m\u001b[38;5;124m'\u001b[39m\u001b[38;5;124mend_ms\u001b[39m\u001b[38;5;124m'\u001b[39m\u001b[38;5;124m or \u001b[39m\u001b[38;5;124m'\u001b[39m\u001b[38;5;124mstart_ms_fr\u001b[39m\u001b[38;5;124m'\u001b[39m\u001b[38;5;124m, \u001b[39m\u001b[38;5;124m'\u001b[39m\u001b[38;5;124mend_ms_fr\u001b[39m\u001b[38;5;124m'\u001b[39m\u001b[38;5;124m.\u001b[39m\u001b[38;5;124m\"\u001b[39m)\n\u001b[1;32m---> 73\u001b[0m photons_cropped \u001b[38;5;241m=\u001b[39m pd\u001b[38;5;241m.\u001b[39mDataFrame(data\u001b[38;5;241m=\u001b[39m\u001b[43mcrop_photons\u001b[49m\u001b[43m(\u001b[49m\n\u001b[0;32m     74\u001b[0m \u001b[43m    \u001b[49m\u001b[43mphotons\u001b[49m\u001b[43m,\u001b[49m\n\u001b[0;32m     75\u001b[0m \u001b[43m    \u001b[49m\u001b[43mx_min\u001b[49m\u001b[43m,\u001b[49m\u001b[43m \u001b[49m\u001b[43mx_max\u001b[49m\u001b[43m,\u001b[49m\n\u001b[0;32m     76\u001b[0m \u001b[43m    \u001b[49m\u001b[43my_min\u001b[49m\u001b[43m,\u001b[49m\u001b[43m \u001b[49m\u001b[43my_max\u001b[49m\u001b[43m,\u001b[49m\n\u001b[0;32m     77\u001b[0m \u001b[43m    \u001b[49m\u001b[43m(\u001b[49m\u001b[43mstart\u001b[49m\u001b[38;5;241;43m-\u001b[39;49m\u001b[43mmore_ms\u001b[49m\u001b[43m)\u001b[49m\u001b[43m,\u001b[49m\n\u001b[0;32m     78\u001b[0m \u001b[43m    \u001b[49m\u001b[43m(\u001b[49m\u001b[43mend\u001b[49m\u001b[38;5;241;43m+\u001b[39;49m\u001b[43mmore_ms\u001b[49m\u001b[43m)\u001b[49m\u001b[43m)\u001b[49m)\n\u001b[0;32m     80\u001b[0m \u001b[38;5;66;03m#total_photons = len(photons_cropped)\u001b[39;00m\n\u001b[0;32m     82\u001b[0m x_distance \u001b[38;5;241m=\u001b[39m (photons_cropped[\u001b[38;5;124m'\u001b[39m\u001b[38;5;124mx\u001b[39m\u001b[38;5;124m'\u001b[39m]\u001b[38;5;241m.\u001b[39mto_numpy() \u001b[38;5;241m-\u001b[39m event\u001b[38;5;241m.\u001b[39mx)\n",
      "File \u001b[1;32m~\\Desktop\\resi-flim\\get_photons\\boundaries.py:215\u001b[0m, in \u001b[0;36mcrop_photons\u001b[1;34m(photons, x_min, x_max, y_min, y_max, ms_min, ms_max)\u001b[0m\n\u001b[0;32m    192\u001b[0m \u001b[38;5;28;01mdef\u001b[39;00m\u001b[38;5;250m \u001b[39m\u001b[38;5;21mcrop_photons\u001b[39m(photons, x_min\u001b[38;5;241m=\u001b[39m\u001b[38;5;241m0\u001b[39m, x_max\u001b[38;5;241m=\u001b[39m\u001b[38;5;28mfloat\u001b[39m(\u001b[38;5;124m'\u001b[39m\u001b[38;5;124minf\u001b[39m\u001b[38;5;124m'\u001b[39m), y_min\u001b[38;5;241m=\u001b[39m\u001b[38;5;241m0\u001b[39m,\n\u001b[0;32m    193\u001b[0m                  y_max\u001b[38;5;241m=\u001b[39m\u001b[38;5;28mfloat\u001b[39m(\u001b[38;5;124m'\u001b[39m\u001b[38;5;124minf\u001b[39m\u001b[38;5;124m'\u001b[39m), ms_min\u001b[38;5;241m=\u001b[39m\u001b[38;5;241m0\u001b[39m, ms_max\u001b[38;5;241m=\u001b[39m\u001b[38;5;28mfloat\u001b[39m(\u001b[38;5;124m'\u001b[39m\u001b[38;5;124minf\u001b[39m\u001b[38;5;124m'\u001b[39m)):\n\u001b[0;32m    194\u001b[0m \u001b[38;5;250m    \u001b[39m\u001b[38;5;124;03m'''\u001b[39;00m\n\u001b[0;32m    195\u001b[0m \u001b[38;5;124;03m    Parameters\u001b[39;00m\n\u001b[0;32m    196\u001b[0m \u001b[38;5;124;03m    ----------\u001b[39;00m\n\u001b[1;32m   (...)\u001b[0m\n\u001b[0;32m    208\u001b[0m \n\u001b[0;32m    209\u001b[0m \u001b[38;5;124;03m    '''\u001b[39;00m\n\u001b[0;32m    211\u001b[0m     photons_cropped \u001b[38;5;241m=\u001b[39m photons[\n\u001b[0;32m    212\u001b[0m         (photons\u001b[38;5;241m.\u001b[39mx \u001b[38;5;241m>\u001b[39m\u001b[38;5;241m=\u001b[39m x_min)\n\u001b[0;32m    213\u001b[0m         \u001b[38;5;241m&\u001b[39m (photons\u001b[38;5;241m.\u001b[39mx \u001b[38;5;241m<\u001b[39m\u001b[38;5;241m=\u001b[39m x_max)\n\u001b[0;32m    214\u001b[0m         \u001b[38;5;241m&\u001b[39m (photons\u001b[38;5;241m.\u001b[39my \u001b[38;5;241m>\u001b[39m\u001b[38;5;241m=\u001b[39m y_min)\n\u001b[1;32m--> 215\u001b[0m         \u001b[38;5;241m&\u001b[39m (\u001b[43mphotons\u001b[49m\u001b[38;5;241;43m.\u001b[39;49m\u001b[43my\u001b[49m\u001b[43m \u001b[49m\u001b[38;5;241;43m<\u001b[39;49m\u001b[38;5;241;43m=\u001b[39;49m\u001b[43m \u001b[49m\u001b[43my_max\u001b[49m)\n\u001b[0;32m    216\u001b[0m         \u001b[38;5;241m&\u001b[39m (photons\u001b[38;5;241m.\u001b[39mms \u001b[38;5;241m>\u001b[39m\u001b[38;5;241m=\u001b[39m ms_min)\n\u001b[0;32m    217\u001b[0m         \u001b[38;5;241m&\u001b[39m (photons\u001b[38;5;241m.\u001b[39mms \u001b[38;5;241m<\u001b[39m\u001b[38;5;241m=\u001b[39m ms_max)]\n\u001b[0;32m    219\u001b[0m     \u001b[38;5;28;01mreturn\u001b[39;00m photons_cropped\n",
      "File \u001b[1;32m~\\AppData\\Local\\anaconda3\\envs\\evelyze\\lib\\site-packages\\pandas\\core\\ops\\common.py:76\u001b[0m, in \u001b[0;36m_unpack_zerodim_and_defer.<locals>.new_method\u001b[1;34m(self, other)\u001b[0m\n\u001b[0;32m     72\u001b[0m             \u001b[38;5;28;01mreturn\u001b[39;00m \u001b[38;5;28mNotImplemented\u001b[39m\n\u001b[0;32m     74\u001b[0m other \u001b[38;5;241m=\u001b[39m item_from_zerodim(other)\n\u001b[1;32m---> 76\u001b[0m \u001b[38;5;28;01mreturn\u001b[39;00m \u001b[43mmethod\u001b[49m\u001b[43m(\u001b[49m\u001b[38;5;28;43mself\u001b[39;49m\u001b[43m,\u001b[49m\u001b[43m \u001b[49m\u001b[43mother\u001b[49m\u001b[43m)\u001b[49m\n",
      "File \u001b[1;32m~\\AppData\\Local\\anaconda3\\envs\\evelyze\\lib\\site-packages\\pandas\\core\\arraylike.py:52\u001b[0m, in \u001b[0;36mOpsMixin.__le__\u001b[1;34m(self, other)\u001b[0m\n\u001b[0;32m     50\u001b[0m \u001b[38;5;129m@unpack_zerodim_and_defer\u001b[39m(\u001b[38;5;124m\"\u001b[39m\u001b[38;5;124m__le__\u001b[39m\u001b[38;5;124m\"\u001b[39m)\n\u001b[0;32m     51\u001b[0m \u001b[38;5;28;01mdef\u001b[39;00m\u001b[38;5;250m \u001b[39m\u001b[38;5;21m__le__\u001b[39m(\u001b[38;5;28mself\u001b[39m, other):\n\u001b[1;32m---> 52\u001b[0m     \u001b[38;5;28;01mreturn\u001b[39;00m \u001b[38;5;28;43mself\u001b[39;49m\u001b[38;5;241;43m.\u001b[39;49m\u001b[43m_cmp_method\u001b[49m\u001b[43m(\u001b[49m\u001b[43mother\u001b[49m\u001b[43m,\u001b[49m\u001b[43m \u001b[49m\u001b[43moperator\u001b[49m\u001b[38;5;241;43m.\u001b[39;49m\u001b[43mle\u001b[49m\u001b[43m)\u001b[49m\n",
      "File \u001b[1;32m~\\AppData\\Local\\anaconda3\\envs\\evelyze\\lib\\site-packages\\pandas\\core\\series.py:6119\u001b[0m, in \u001b[0;36mSeries._cmp_method\u001b[1;34m(self, other, op)\u001b[0m\n\u001b[0;32m   6116\u001b[0m lvalues \u001b[38;5;241m=\u001b[39m \u001b[38;5;28mself\u001b[39m\u001b[38;5;241m.\u001b[39m_values\n\u001b[0;32m   6117\u001b[0m rvalues \u001b[38;5;241m=\u001b[39m extract_array(other, extract_numpy\u001b[38;5;241m=\u001b[39m\u001b[38;5;28;01mTrue\u001b[39;00m, extract_range\u001b[38;5;241m=\u001b[39m\u001b[38;5;28;01mTrue\u001b[39;00m)\n\u001b[1;32m-> 6119\u001b[0m res_values \u001b[38;5;241m=\u001b[39m \u001b[43mops\u001b[49m\u001b[38;5;241;43m.\u001b[39;49m\u001b[43mcomparison_op\u001b[49m\u001b[43m(\u001b[49m\u001b[43mlvalues\u001b[49m\u001b[43m,\u001b[49m\u001b[43m \u001b[49m\u001b[43mrvalues\u001b[49m\u001b[43m,\u001b[49m\u001b[43m \u001b[49m\u001b[43mop\u001b[49m\u001b[43m)\u001b[49m\n\u001b[0;32m   6121\u001b[0m \u001b[38;5;28;01mreturn\u001b[39;00m \u001b[38;5;28mself\u001b[39m\u001b[38;5;241m.\u001b[39m_construct_result(res_values, name\u001b[38;5;241m=\u001b[39mres_name)\n",
      "File \u001b[1;32m~\\AppData\\Local\\anaconda3\\envs\\evelyze\\lib\\site-packages\\pandas\\core\\ops\\array_ops.py:347\u001b[0m, in \u001b[0;36mcomparison_op\u001b[1;34m(left, right, op)\u001b[0m\n\u001b[0;32m    344\u001b[0m     res_values \u001b[38;5;241m=\u001b[39m comp_method_OBJECT_ARRAY(op, lvalues, rvalues)\n\u001b[0;32m    346\u001b[0m \u001b[38;5;28;01melse\u001b[39;00m:\n\u001b[1;32m--> 347\u001b[0m     res_values \u001b[38;5;241m=\u001b[39m \u001b[43m_na_arithmetic_op\u001b[49m\u001b[43m(\u001b[49m\u001b[43mlvalues\u001b[49m\u001b[43m,\u001b[49m\u001b[43m \u001b[49m\u001b[43mrvalues\u001b[49m\u001b[43m,\u001b[49m\u001b[43m \u001b[49m\u001b[43mop\u001b[49m\u001b[43m,\u001b[49m\u001b[43m \u001b[49m\u001b[43mis_cmp\u001b[49m\u001b[38;5;241;43m=\u001b[39;49m\u001b[38;5;28;43;01mTrue\u001b[39;49;00m\u001b[43m)\u001b[49m\n\u001b[0;32m    349\u001b[0m \u001b[38;5;28;01mreturn\u001b[39;00m res_values\n",
      "File \u001b[1;32m~\\AppData\\Local\\anaconda3\\envs\\evelyze\\lib\\site-packages\\pandas\\core\\ops\\array_ops.py:218\u001b[0m, in \u001b[0;36m_na_arithmetic_op\u001b[1;34m(left, right, op, is_cmp)\u001b[0m\n\u001b[0;32m    215\u001b[0m     func \u001b[38;5;241m=\u001b[39m partial(expressions\u001b[38;5;241m.\u001b[39mevaluate, op)\n\u001b[0;32m    217\u001b[0m \u001b[38;5;28;01mtry\u001b[39;00m:\n\u001b[1;32m--> 218\u001b[0m     result \u001b[38;5;241m=\u001b[39m \u001b[43mfunc\u001b[49m\u001b[43m(\u001b[49m\u001b[43mleft\u001b[49m\u001b[43m,\u001b[49m\u001b[43m \u001b[49m\u001b[43mright\u001b[49m\u001b[43m)\u001b[49m\n\u001b[0;32m    219\u001b[0m \u001b[38;5;28;01mexcept\u001b[39;00m \u001b[38;5;167;01mTypeError\u001b[39;00m:\n\u001b[0;32m    220\u001b[0m     \u001b[38;5;28;01mif\u001b[39;00m \u001b[38;5;129;01mnot\u001b[39;00m is_cmp \u001b[38;5;129;01mand\u001b[39;00m (\n\u001b[0;32m    221\u001b[0m         left\u001b[38;5;241m.\u001b[39mdtype \u001b[38;5;241m==\u001b[39m \u001b[38;5;28mobject\u001b[39m \u001b[38;5;129;01mor\u001b[39;00m \u001b[38;5;28mgetattr\u001b[39m(right, \u001b[38;5;124m\"\u001b[39m\u001b[38;5;124mdtype\u001b[39m\u001b[38;5;124m\"\u001b[39m, \u001b[38;5;28;01mNone\u001b[39;00m) \u001b[38;5;241m==\u001b[39m \u001b[38;5;28mobject\u001b[39m\n\u001b[0;32m    222\u001b[0m     ):\n\u001b[1;32m   (...)\u001b[0m\n\u001b[0;32m    225\u001b[0m         \u001b[38;5;66;03m# Don't do this for comparisons, as that will handle complex numbers\u001b[39;00m\n\u001b[0;32m    226\u001b[0m         \u001b[38;5;66;03m#  incorrectly, see GH#32047\u001b[39;00m\n",
      "File \u001b[1;32m~\\AppData\\Local\\anaconda3\\envs\\evelyze\\lib\\site-packages\\pandas\\core\\computation\\expressions.py:242\u001b[0m, in \u001b[0;36mevaluate\u001b[1;34m(op, a, b, use_numexpr)\u001b[0m\n\u001b[0;32m    239\u001b[0m \u001b[38;5;28;01mif\u001b[39;00m op_str \u001b[38;5;129;01mis\u001b[39;00m \u001b[38;5;129;01mnot\u001b[39;00m \u001b[38;5;28;01mNone\u001b[39;00m:\n\u001b[0;32m    240\u001b[0m     \u001b[38;5;28;01mif\u001b[39;00m use_numexpr:\n\u001b[0;32m    241\u001b[0m         \u001b[38;5;66;03m# error: \"None\" not callable\u001b[39;00m\n\u001b[1;32m--> 242\u001b[0m         \u001b[38;5;28;01mreturn\u001b[39;00m \u001b[43m_evaluate\u001b[49m\u001b[43m(\u001b[49m\u001b[43mop\u001b[49m\u001b[43m,\u001b[49m\u001b[43m \u001b[49m\u001b[43mop_str\u001b[49m\u001b[43m,\u001b[49m\u001b[43m \u001b[49m\u001b[43ma\u001b[49m\u001b[43m,\u001b[49m\u001b[43m \u001b[49m\u001b[43mb\u001b[49m\u001b[43m)\u001b[49m  \u001b[38;5;66;03m# type: ignore[misc]\u001b[39;00m\n\u001b[0;32m    243\u001b[0m \u001b[38;5;28;01mreturn\u001b[39;00m _evaluate_standard(op, op_str, a, b)\n",
      "File \u001b[1;32m~\\AppData\\Local\\anaconda3\\envs\\evelyze\\lib\\site-packages\\pandas\\core\\computation\\expressions.py:108\u001b[0m, in \u001b[0;36m_evaluate_numexpr\u001b[1;34m(op, op_str, a, b)\u001b[0m\n\u001b[0;32m    105\u001b[0m b_value \u001b[38;5;241m=\u001b[39m b\n\u001b[0;32m    107\u001b[0m \u001b[38;5;28;01mtry\u001b[39;00m:\n\u001b[1;32m--> 108\u001b[0m     result \u001b[38;5;241m=\u001b[39m \u001b[43mne\u001b[49m\u001b[38;5;241;43m.\u001b[39;49m\u001b[43mevaluate\u001b[49m\u001b[43m(\u001b[49m\n\u001b[0;32m    109\u001b[0m \u001b[43m        \u001b[49m\u001b[38;5;124;43mf\u001b[39;49m\u001b[38;5;124;43m\"\u001b[39;49m\u001b[38;5;124;43ma_value \u001b[39;49m\u001b[38;5;132;43;01m{\u001b[39;49;00m\u001b[43mop_str\u001b[49m\u001b[38;5;132;43;01m}\u001b[39;49;00m\u001b[38;5;124;43m b_value\u001b[39;49m\u001b[38;5;124;43m\"\u001b[39;49m\u001b[43m,\u001b[49m\n\u001b[0;32m    110\u001b[0m \u001b[43m        \u001b[49m\u001b[43mlocal_dict\u001b[49m\u001b[38;5;241;43m=\u001b[39;49m\u001b[43m{\u001b[49m\u001b[38;5;124;43m\"\u001b[39;49m\u001b[38;5;124;43ma_value\u001b[39;49m\u001b[38;5;124;43m\"\u001b[39;49m\u001b[43m:\u001b[49m\u001b[43m \u001b[49m\u001b[43ma_value\u001b[49m\u001b[43m,\u001b[49m\u001b[43m \u001b[49m\u001b[38;5;124;43m\"\u001b[39;49m\u001b[38;5;124;43mb_value\u001b[39;49m\u001b[38;5;124;43m\"\u001b[39;49m\u001b[43m:\u001b[49m\u001b[43m \u001b[49m\u001b[43mb_value\u001b[49m\u001b[43m}\u001b[49m\u001b[43m,\u001b[49m\n\u001b[0;32m    111\u001b[0m \u001b[43m        \u001b[49m\u001b[43mcasting\u001b[49m\u001b[38;5;241;43m=\u001b[39;49m\u001b[38;5;124;43m\"\u001b[39;49m\u001b[38;5;124;43msafe\u001b[39;49m\u001b[38;5;124;43m\"\u001b[39;49m\u001b[43m,\u001b[49m\n\u001b[0;32m    112\u001b[0m \u001b[43m    \u001b[49m\u001b[43m)\u001b[49m\n\u001b[0;32m    113\u001b[0m \u001b[38;5;28;01mexcept\u001b[39;00m \u001b[38;5;167;01mTypeError\u001b[39;00m:\n\u001b[0;32m    114\u001b[0m     \u001b[38;5;66;03m# numexpr raises eg for array ** array with integers\u001b[39;00m\n\u001b[0;32m    115\u001b[0m     \u001b[38;5;66;03m# (https://github.com/pydata/numexpr/issues/379)\u001b[39;00m\n\u001b[0;32m    116\u001b[0m     \u001b[38;5;28;01mpass\u001b[39;00m\n",
      "File \u001b[1;32m~\\AppData\\Local\\anaconda3\\envs\\evelyze\\lib\\site-packages\\numexpr\\necompiler.py:975\u001b[0m, in \u001b[0;36mevaluate\u001b[1;34m(ex, local_dict, global_dict, out, order, casting, sanitize, _frame_depth, **kwargs)\u001b[0m\n\u001b[0;32m    971\u001b[0m e \u001b[38;5;241m=\u001b[39m validate(ex, local_dict\u001b[38;5;241m=\u001b[39mlocal_dict, global_dict\u001b[38;5;241m=\u001b[39mglobal_dict, \n\u001b[0;32m    972\u001b[0m              out\u001b[38;5;241m=\u001b[39mout, order\u001b[38;5;241m=\u001b[39morder, casting\u001b[38;5;241m=\u001b[39mcasting, \n\u001b[0;32m    973\u001b[0m              _frame_depth\u001b[38;5;241m=\u001b[39m_frame_depth, sanitize\u001b[38;5;241m=\u001b[39msanitize, \u001b[38;5;241m*\u001b[39m\u001b[38;5;241m*\u001b[39mkwargs)\n\u001b[0;32m    974\u001b[0m \u001b[38;5;28;01mif\u001b[39;00m e \u001b[38;5;129;01mis\u001b[39;00m \u001b[38;5;28;01mNone\u001b[39;00m:\n\u001b[1;32m--> 975\u001b[0m     \u001b[38;5;28;01mreturn\u001b[39;00m \u001b[43mre_evaluate\u001b[49m\u001b[43m(\u001b[49m\u001b[43mlocal_dict\u001b[49m\u001b[38;5;241;43m=\u001b[39;49m\u001b[43mlocal_dict\u001b[49m\u001b[43m,\u001b[49m\u001b[43m \u001b[49m\u001b[43mglobal_dict\u001b[49m\u001b[38;5;241;43m=\u001b[39;49m\u001b[43mglobal_dict\u001b[49m\u001b[43m,\u001b[49m\u001b[43m \u001b[49m\u001b[43m_frame_depth\u001b[49m\u001b[38;5;241;43m=\u001b[39;49m\u001b[43m_frame_depth\u001b[49m\u001b[43m)\u001b[49m\n\u001b[0;32m    976\u001b[0m \u001b[38;5;28;01melse\u001b[39;00m:\n\u001b[0;32m    977\u001b[0m     \u001b[38;5;28;01mraise\u001b[39;00m e\n",
      "File \u001b[1;32m~\\AppData\\Local\\anaconda3\\envs\\evelyze\\lib\\site-packages\\numexpr\\necompiler.py:1007\u001b[0m, in \u001b[0;36mre_evaluate\u001b[1;34m(local_dict, global_dict, _frame_depth)\u001b[0m\n\u001b[0;32m   1005\u001b[0m kwargs \u001b[38;5;241m=\u001b[39m _numexpr_last[\u001b[38;5;124m'\u001b[39m\u001b[38;5;124mkwargs\u001b[39m\u001b[38;5;124m'\u001b[39m]\n\u001b[0;32m   1006\u001b[0m \u001b[38;5;28;01mwith\u001b[39;00m evaluate_lock:\n\u001b[1;32m-> 1007\u001b[0m     \u001b[38;5;28;01mreturn\u001b[39;00m compiled_ex(\u001b[38;5;241m*\u001b[39margs, \u001b[38;5;241m*\u001b[39m\u001b[38;5;241m*\u001b[39mkwargs)\n",
      "\u001b[1;31mKeyboardInterrupt\u001b[0m: "
     ]
    }
   ],
   "source": [
    "event.event_analysis('local/all3_1701_rfp.hdf5', 'local/all3_1701_index.hdf5', 'local/all3_1701_drift.txt', 10, 4.5, 200)"
   ]
  },
  {
   "cell_type": "code",
   "execution_count": null,
   "id": "3b663166-80b5-4966-9af2-0b8e343879a7",
   "metadata": {},
   "outputs": [],
   "source": [
    "#%run random_forest/prep_data.py"
   ]
  },
  {
   "cell_type": "code",
   "execution_count": null,
   "id": "51413d67-9f4e-48f9-9a4b-50419a70ed01",
   "metadata": {},
   "outputs": [],
   "source": []
  }
 ],
 "metadata": {
  "kernelspec": {
   "display_name": "Python 3 (ipykernel)",
   "language": "python",
   "name": "python3"
  },
  "language_info": {
   "codemirror_mode": {
    "name": "ipython",
    "version": 3
   },
   "file_extension": ".py",
   "mimetype": "text/x-python",
   "name": "python",
   "nbconvert_exporter": "python",
   "pygments_lexer": "ipython3",
   "version": "3.10.16"
  }
 },
 "nbformat": 4,
 "nbformat_minor": 5
}
