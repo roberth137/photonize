{
 "cells": [
  {
   "cell_type": "code",
   "execution_count": 1,
   "id": "428bf5c0-2eef-48a4-a81d-8021f29878a1",
   "metadata": {},
   "outputs": [],
   "source": [
    "import numpy as np\n",
    "import scipy as sp\n",
    "import matplotlib.pyplot as plt\n",
    "import pandas as pd\n",
    "import math\n",
    "from pathlib import Path\n",
    "import h5py\n",
    "import copy\n",
    "import matplotlib as mpl\n",
    "import RESI_functions118 as resi\n",
    "import scipy.io as sio\n",
    "from scipy.optimize import curve_fit"
   ]
  },
  {
   "cell_type": "code",
   "execution_count": 2,
   "id": "6e911885-c895-40b6-a147-adcd833ed1db",
   "metadata": {},
   "outputs": [],
   "source": [
    "#resi.locs_lt_to_picasso('241108test/4xoffset_p.hdf5', '241108test/both_4xoffset_index.hdf5', '241108test/both_4xoffset_drift.txt', offset=4)"
   ]
  },
  {
   "cell_type": "code",
   "execution_count": 3,
   "id": "8e04efff-c134-4574-91a0-1d940b0d2879",
   "metadata": {},
   "outputs": [],
   "source": [
    "cy3_locs = pd.read_hdf('4xoffset_p_lt_c3only.hdf5', key='locs')"
   ]
  },
  {
   "cell_type": "code",
   "execution_count": 4,
   "id": "583d68ba-eaf1-455f-8f1a-c458503f6e51",
   "metadata": {},
   "outputs": [],
   "source": [
    "a5_locs = pd.read_hdf('4xoffset_p_lt_a5only.hdf5', key='locs')"
   ]
  },
  {
   "cell_type": "code",
   "execution_count": 14,
   "id": "b79f3b67-454a-43b5-870e-d73fd11d0fec",
   "metadata": {},
   "outputs": [],
   "source": [
    "hdf5_fname = 'c3_first-third_frames.hdf5'\n",
    "localizations = cy3_locs[(cy3_locs.frame%4==0)|(cy3_locs.frame%4==2)]\n",
    "path = str(Path.cwd())\n",
    "labels = list(localizations.keys())\n",
    "df_picasso = localizations.reindex(columns=labels, fill_value=1)\n",
    "locs = df_picasso.to_records(index = False)\n",
    "hf = h5py.File(path + '/' + hdf5_fname, 'w')\n",
    "hf.create_dataset('locs', data=locs)\n",
    "hf.close()"
   ]
  },
  {
   "cell_type": "code",
   "execution_count": null,
   "id": "7c1690b7-afa4-4155-a37f-36c4f763543f",
   "metadata": {},
   "outputs": [],
   "source": []
  }
 ],
 "metadata": {
  "kernelspec": {
   "display_name": "Python 3 (ipykernel)",
   "language": "python",
   "name": "python3"
  },
  "language_info": {
   "codemirror_mode": {
    "name": "ipython",
    "version": 3
   },
   "file_extension": ".py",
   "mimetype": "text/x-python",
   "name": "python",
   "nbconvert_exporter": "python",
   "pygments_lexer": "ipython3",
   "version": "3.8.11"
  }
 },
 "nbformat": 4,
 "nbformat_minor": 5
}
